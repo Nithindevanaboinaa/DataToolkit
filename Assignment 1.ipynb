{
 "cells": [
  {
   "cell_type": "code",
   "execution_count": 1,
   "id": "2bdceb84-96ee-4217-ad3c-bb8aeef1ca95",
   "metadata": {},
   "outputs": [
    {
     "data": {
      "text/plain": [
       "'SLLIKSWP'"
      ]
     },
     "execution_count": 1,
     "metadata": {},
     "output_type": "execute_result"
    }
   ],
   "source": [
    "#1.Write code to reverse a string\n",
    "def reverse(str1):\n",
    "    return str1[::-1]\n",
    "reverse(\"PWSKILLS\")"
   ]
  },
  {
   "cell_type": "code",
   "execution_count": 90,
   "id": "3de977bb-8d29-46d3-ac3f-4ce072911213",
   "metadata": {},
   "outputs": [
    {
     "data": {
      "text/plain": [
       "5"
      ]
     },
     "execution_count": 90,
     "metadata": {},
     "output_type": "execute_result"
    }
   ],
   "source": [
    "#2.Write a code to count the number of vowels in a string\n",
    "def VowelsCount(str1):\n",
    "    count=0\n",
    "    vowels=\"aeiouAEIOU\"\n",
    "    for ch in str1:\n",
    "        if ch in vowels:\n",
    "            count+=1\n",
    "    return count\n",
    "str1=\"I am a student\"\n",
    "VowelsCount(str1)"
   ]
  },
  {
   "cell_type": "code",
   "execution_count": 91,
   "id": "461af554-cc2f-49a4-a2c4-bbe545ba672f",
   "metadata": {},
   "outputs": [
    {
     "name": "stdout",
     "output_type": "stream",
     "text": [
      "Given string is not palindrome\n"
     ]
    }
   ],
   "source": [
    "#3.write a code to check if the given string is palindrome or not\n",
    "def check(str1):\n",
    "    if str1 == str1[::-1]:\n",
    "           print(\"Given string is palindrome\")\n",
    "    else:\n",
    "        print(\"Given string is not palindrome\")\n",
    "check(\"start\")"
   ]
  },
  {
   "cell_type": "code",
   "execution_count": null,
   "id": "aa878102-a651-4337-8ae7-78045c8a63bf",
   "metadata": {},
   "outputs": [],
   "source": [
    "#4. write a code to check if two  given strings are anagrams of each other or not\n",
    "def check(str1,str2):\n",
    "    return sorted(str1)==sorted(str2)\n",
    "if(check(\"start\",\"stop\")==True):\n",
    "    print(\"Anagram\")\n",
    "else:\n",
    "    print(\"Not an Anagram\")"
   ]
  },
  {
   "cell_type": "code",
   "execution_count": 93,
   "id": "fdd1b06a-59a4-4543-8fc1-61d7562d8060",
   "metadata": {},
   "outputs": [
    {
     "name": "stdout",
     "output_type": "stream",
     "text": [
      "All occurrences of 'hello' in 'hello world, hello universe, hello galaxy': [0, 13, 29]\n"
     ]
    }
   ],
   "source": [
    "#5. Write a code to find all occurrences of a given substring within another string.\n",
    "def find_all_occurrences(main_string, sub_string):\n",
    "    occurrences = []\n",
    "    start = 0\n",
    "    while True:\n",
    "        start = main_string.find(sub_string, start)\n",
    "        if start == -1:\n",
    "            break\n",
    "        occurrences.append(start)\n",
    "        start += 1 \n",
    "    return occurrences\n",
    "main_str = \"hello world, hello universe, hello galaxy\"\n",
    "sub_str = \"hello\"\n",
    "all_occurrences = find_all_occurrences(main_str, sub_str)\n",
    "print(f\"All occurrences of '{sub_str}' in '{main_str}': {all_occurrences}\")\n"
   ]
  },
  {
   "cell_type": "code",
   "execution_count": 94,
   "id": "98b63063-9993-448f-b7a1-cd18c2fe7726",
   "metadata": {},
   "outputs": [
    {
     "name": "stdout",
     "output_type": "stream",
     "text": [
      "Count of repeated characters for aaabbbccdddd: a3b3c2d4\n"
     ]
    }
   ],
   "source": [
    "#6. Write a code to perform basic string compression using the counts of repeated characters.\n",
    "def compressed_string(s):\n",
    "    compressed=\"\"\n",
    "    cnt=1\n",
    "    for i in range(len(s)):\n",
    "        if i< len(s)-1 and s[i]==s[i+1]:\n",
    "            cnt+=1\n",
    "        else:\n",
    "            compressed += s[i] + str(cnt)\n",
    "            cnt=1\n",
    "    return compressed\n",
    "str1=\"aaabbbccdddd\"\n",
    "compress=compressed_string(str1)\n",
    "print(f\"Count of repeated characters for {str1}: {compress}\")"
   ]
  },
  {
   "cell_type": "code",
   "execution_count": 95,
   "id": "52d2eed9-031d-4ba4-9e66-7fd91459f490",
   "metadata": {},
   "outputs": [
    {
     "name": "stdout",
     "output_type": "stream",
     "text": [
      "Given string Nithin doesn't have unique characters\n"
     ]
    }
   ],
   "source": [
    "#7. Write a code to determine if a string has all unique characters.\n",
    "def check(s):\n",
    "    return len(s)==len(set(s))\n",
    "s=\"Nithin\"\n",
    "if(check(s)==True):\n",
    "    print(f\"Given string {s} have unique characters\")\n",
    "else:\n",
    "    print(f\"Given string {s} doesn\\'t have unique characters\")"
   ]
  },
  {
   "cell_type": "code",
   "execution_count": 96,
   "id": "4a4b077a-457c-46b8-9c77-910587809a1e",
   "metadata": {},
   "outputs": [
    {
     "data": {
      "text/plain": [
       "'HELLO'"
      ]
     },
     "execution_count": 96,
     "metadata": {},
     "output_type": "execute_result"
    }
   ],
   "source": [
    "#8. Write a code to convert a given string to uppercase or lowercase.\n",
    "def convert(str1,to_upper=True):\n",
    "    if to_upper:\n",
    "        return str1.upper()\n",
    "    else:\n",
    "        return str1.lower()\n",
    "str1=\"Hello\"\n",
    "to_upper=True        # if lower case is to be executed enter False\n",
    "convert(str1,to_upper)\n"
   ]
  },
  {
   "cell_type": "code",
   "execution_count": 97,
   "id": "3ad16bbb-f11c-4ff5-b050-2002065e86de",
   "metadata": {},
   "outputs": [
    {
     "name": "stdout",
     "output_type": "stream",
     "text": [
      "Number of words in string Hello,World :1\n"
     ]
    }
   ],
   "source": [
    "# 9.Write a code to count the number of words in a string\n",
    "def count(s):\n",
    "    return len(s.split())\n",
    "s=\"Hello,World\"\n",
    "c=count(s)\n",
    "print(f\"Number of words in string {s} :{c}\")"
   ]
  },
  {
   "cell_type": "code",
   "execution_count": 98,
   "id": "751476e7-8123-4c6c-95fa-6cb9a5058611",
   "metadata": {},
   "outputs": [
    {
     "name": "stdout",
     "output_type": "stream",
     "text": [
      "Concatenation of Hello, and World!! : Hello,World!!\n"
     ]
    }
   ],
   "source": [
    "#10. Write a code to concatenate two strings without using the + operator.\n",
    "def concate_strings(str1,str2):\n",
    "    return \"\".join([str1,str2])\n",
    "str1=\"Hello,\"\n",
    "str2=\"World!!\"\n",
    "s=concate_strings(str1,str2)\n",
    "print(f\"Concatenation of {str1} and {str2} : {s}\")"
   ]
  },
  {
   "cell_type": "code",
   "execution_count": 99,
   "id": "1dbfe0f4-bc26-4133-80f6-3f1b8e6ff534",
   "metadata": {},
   "outputs": [
    {
     "name": "stdout",
     "output_type": "stream",
     "text": [
      "{1, 3, 5, 6, 7, 8}\n"
     ]
    }
   ],
   "source": [
    "#11. Write a code to remove all occurrences of a specific element from a list.\n",
    "def remove_occurrences(list1,element):\n",
    "    return {i for i in list1 if i!=element }\n",
    "list1=[1,9,3,9,5,6,7,8,9]\n",
    "element=9\n",
    "list2=remove_occurrences(list1,element)\n",
    "print(list2)"
   ]
  },
  {
   "cell_type": "code",
   "execution_count": 100,
   "id": "1be48754-c28d-471c-9167-9fe265213fed",
   "metadata": {},
   "outputs": [
    {
     "name": "stdout",
     "output_type": "stream",
     "text": [
      "SecondLargest number in list is: 9\n"
     ]
    }
   ],
   "source": [
    "#12. Implement a code to find the second largest number in a given list of integers.\n",
    "def second_largest_number(list1):\n",
    "    num=sorted(list1)\n",
    "    return num[-2]\n",
    "list1=[5,4,2,1,3,7,9,10,0]\n",
    "result=second_largest_number(list1)\n",
    "print(f\"SecondLargest number in list is: {result}\")"
   ]
  },
  {
   "cell_type": "code",
   "execution_count": 101,
   "id": "b5ace252-4c9a-411f-b257-20b9453255f0",
   "metadata": {},
   "outputs": [
    {
     "name": "stdout",
     "output_type": "stream",
     "text": [
      "Occurrences of each element in a list are: {1: 3, 2: 2, 3: 1, 4: 2, 5: 1}\n"
     ]
    }
   ],
   "source": [
    "#13. Create a code to count the occurrences of each element in a list and return a dictionary with elements as keys and their counts as values.\n",
    "def count_occurrences(list1):\n",
    "    return {i:list1.count(i) for i in set(list1)}\n",
    "list1=[1, 2, 3, 1, 2, 1, 4, 5, 4]\n",
    "result=count_occurrences(list1)\n",
    "print(f\"Occurrences of each element in a list are: {result}\")"
   ]
  },
  {
   "cell_type": "code",
   "execution_count": 102,
   "id": "0cf61d15-3d95-4f44-95db-482a037cf99b",
   "metadata": {},
   "outputs": [
    {
     "name": "stdout",
     "output_type": "stream",
     "text": [
      "Reversing a list in-place without using any built-in reverse functions:[5, 2, 3, 4, 1]\n"
     ]
    }
   ],
   "source": [
    "#14. Write a code to reverse a list in-place without using any built-in reverse functions.\n",
    "def reverse_list(s):\n",
    "    low,high=0,len(s)-1\n",
    "    while low<high:\n",
    "        s[low],s[high]=s[high],s[low]\n",
    "        low+=1\n",
    "        high-=1\n",
    "        return s\n",
    "list1=[1,2,3,4,5]\n",
    "result=reverse_list(list1)\n",
    "print(f\"Reversing a list in-place without using any built-in reverse functions:{result}\")"
   ]
  },
  {
   "cell_type": "code",
   "execution_count": 103,
   "id": "a71665be-9ff6-4413-b4c8-876a57f2bb5f",
   "metadata": {},
   "outputs": [
    {
     "name": "stdout",
     "output_type": "stream",
     "text": [
      "[1, 2, 3, 4, 5]\n"
     ]
    }
   ],
   "source": [
    "#15. Implement a code to find and remove duplicates from a list while preserving the original order of elements.\n",
    "def remove_duplicates(list1):\n",
    "    return set(list1)\n",
    "list1=[1, 2, 3, 1, 2, 1, 4, 5, 4]\n",
    "list2=remove_duplicates(list1)\n",
    "print(list(list2))"
   ]
  },
  {
   "cell_type": "code",
   "execution_count": 104,
   "id": "98f8fb86-9bd9-40fc-8d2a-a8d712361ba7",
   "metadata": {},
   "outputs": [
    {
     "name": "stdout",
     "output_type": "stream",
     "text": [
      "Given list is not in sorted order\n"
     ]
    }
   ],
   "source": [
    "#16. Create a code to check if a given list is sorted (either in ascending or descending order) or not.\n",
    "def check(list1):\n",
    "    return list1==sorted(list1) or list1==sorted(list1,reverse=True)\n",
    "list1=range(0,10)\n",
    "if check(list1) == True:\n",
    "    print(\"Given list is in sorted order\")\n",
    "else:\n",
    "    print(\"Given list is not in sorted order\")"
   ]
  },
  {
   "cell_type": "code",
   "execution_count": 105,
   "id": "79d92f3f-8bb7-415e-8f11-158b6b2f85b7",
   "metadata": {},
   "outputs": [
    {
     "name": "stdout",
     "output_type": "stream",
     "text": [
      "Sorted list after merging two sorted lists is: [1, 2, 3, 5, 7, 9]\n"
     ]
    }
   ],
   "source": [
    "#17. Write a code to merge two sorted lists into a single sorted list.\n",
    "def merge_two_soretd_lists(list1,list2):\n",
    "    l=list1+list2\n",
    "    return sorted(l)\n",
    "list1=[1,5,9]\n",
    "list2=[2,3,7]\n",
    "result=merge_two_soretd_lists(list1,list2)\n",
    "print(f\"Sorted list after merging two sorted lists is: {result}\")"
   ]
  },
  {
   "cell_type": "code",
   "execution_count": 106,
   "id": "c1ae5a22-59fb-4b9c-b193-ac6b18944809",
   "metadata": {},
   "outputs": [
    {
     "name": "stdout",
     "output_type": "stream",
     "text": [
      "Intersection of two given lists: [4, 5]\n"
     ]
    }
   ],
   "source": [
    "#18. Implement a code to find the intersection of two given lists.\n",
    "def intersection(list1,list2):\n",
    "    return set(list1) & set(list2)\n",
    "list1=[1,2,4,5,6]\n",
    "list2=[3,5,4,8,7,9]\n",
    "result=intersection(list1,list2)\n",
    "print(f\"Intersection of two given lists: {list(result)}\")"
   ]
  },
  {
   "cell_type": "code",
   "execution_count": 107,
   "id": "e20703b6-c6be-4de7-aa5e-79f7991d5ffc",
   "metadata": {},
   "outputs": [
    {
     "name": "stdout",
     "output_type": "stream",
     "text": [
      "Union of two given lists: [1, 2, 3, 4, 5, 6, 7, 8, 9]\n"
     ]
    }
   ],
   "source": [
    "#19. Create a code to find the union of two lists without duplicates.\n",
    "def union(list1,list2):\n",
    "    return set(list1) | set(list2)\n",
    "list1=[1,2,4,5,6]\n",
    "list2=[3,5,4,8,7,9]\n",
    "result=union(list1,list2)\n",
    "print(f\"Union of two given lists: {list(result)}\")"
   ]
  },
  {
   "cell_type": "code",
   "execution_count": 108,
   "id": "49048344-cca9-4465-abd4-ca707f79acec",
   "metadata": {},
   "outputs": [
    {
     "name": "stdout",
     "output_type": "stream",
     "text": [
      "Result of shuffling the list randomly: [1, 2, 3, 4, 5, 6]\n"
     ]
    }
   ],
   "source": [
    "#20. Write a code to shuffle a given list randomly without using any built-in shuffle functions.\n",
    "import random\n",
    "def shuffle_randomly(list1):\n",
    "    list1=list2[:]\n",
    "    for i in range(len(list2)-1,0,-1):\n",
    "        j=random.randint(0,i)\n",
    "        list2[i],list2[j]=list2[j],list2[i]\n",
    "    return list2\n",
    "list1=[1,2,3,4,5,6]\n",
    "result=shuffle_randomly(list1)\n",
    "print(f\"Result of shuffling the list randomly: {list1}\")"
   ]
  },
  {
   "cell_type": "code",
   "execution_count": 109,
   "id": "9596630c-2ff7-449e-9b3f-ef237bb6dc77",
   "metadata": {},
   "outputs": [
    {
     "name": "stdin",
     "output_type": "stream",
     "text": [
      "Enter tuple 1 :  1,2,3,5,6\n",
      "Enter tuple 2 :  2,3,5,3,6\n"
     ]
    },
    {
     "name": "stdout",
     "output_type": "stream",
     "text": [
      "New tuple containing common elements : (2, 3, 5, 6)\n"
     ]
    }
   ],
   "source": [
    "#21. Write a code that takes two tuples as input and returns a new tuple containing elements that are common to both input tuples.\n",
    "def common(t1,t2):\n",
    "    return tuple(set(t1).intersection(set(t2)))\n",
    "t1_input=input(\"Enter tuple 1 : \")                       #takes input as string by comma seperated values\n",
    "t2_input=input(\"Enter tuple 2 : \")\n",
    "t1=eval(t1_input)                                        #converts string to tuple\n",
    "t2=eval(t2_input)\n",
    "result=common(t1,t2)\n",
    "print(f\"New tuple containing common elements : {result}\".strip())"
   ]
  },
  {
   "cell_type": "code",
   "execution_count": 5,
   "id": "ba35c2a0-e6f3-4147-ae88-46c4227ada08",
   "metadata": {},
   "outputs": [
    {
     "name": "stdin",
     "output_type": "stream",
     "text": [
      "Enter elements for the set1 :  1,2,4,5,6\n",
      "Enter elements for the set2 :  2,4,5,6,7,9\n"
     ]
    },
    {
     "name": "stdout",
     "output_type": "stream",
     "text": [
      "Intersection of the two sets: {2, 4, 5, 6}\n"
     ]
    }
   ],
   "source": [
    "#22. Create a code that prompts the user to enter two sets of integers separated by commas. Then, print the intersection of these two sets.\n",
    "def get_input(prompt):\n",
    "    input_str = input(prompt)\n",
    "    input_set = set(map(int, input_str.split(',')))  # Split input string by commas and convert to set of integers\n",
    "    return input_set\n",
    "set1 = get_input(\"Enter elements for the set1 : \")\n",
    "set2 = get_input(\"Enter elements for the set2 : \")\n",
    "intersection_set = set1 & set2\n",
    "print(\"Intersection of the two sets:\", intersection_set)"
   ]
  },
  {
   "cell_type": "code",
   "execution_count": 110,
   "id": "dd6d6811-37dc-40fc-99a6-0df50a8fbbaf",
   "metadata": {},
   "outputs": [
    {
     "name": "stdin",
     "output_type": "stream",
     "text": [
      "Enter tuple 1 :  1,2,3,4,5,6\n",
      "Enter tuple 2 :  1,2,45,6,89,10\n"
     ]
    },
    {
     "name": "stdout",
     "output_type": "stream",
     "text": [
      "Concatenation of two tuples : (1, 2, 3, 4, 5, 6, 1, 2, 45, 6, 89, 10)\n"
     ]
    }
   ],
   "source": [
    "#23. Write a code to concatenate two tuples. The function should take two tuples as input and return a new tuple containing elements from both input tuples.\n",
    "def concate_tuples(t1,t2):\n",
    "    t3=t1+t2\n",
    "    return t3\n",
    "t1_input=input(\"Enter tuple 1 : \")                       #takes input as string by comma seperated values\n",
    "t2_input=input(\"Enter tuple 2 : \")\n",
    "t1=eval(t1_input)                                        #converts string to tuple\n",
    "t2=eval(t2_input)\n",
    "result=concate_tuples(t1,t2)\n",
    "print(f\"Concatenation of two tuples : {result}\")"
   ]
  },
  {
   "cell_type": "code",
   "execution_count": 3,
   "id": "18b3f0af-3488-413b-95aa-44a53bfb5998",
   "metadata": {},
   "outputs": [
    {
     "name": "stdin",
     "output_type": "stream",
     "text": [
      "Enter elements for the set1 :  apple banana\n",
      "Enter elements for the set2:  apple\n"
     ]
    },
    {
     "name": "stdout",
     "output_type": "stream",
     "text": [
      "Elements in the first set but not in the second set: {'banana'}\n"
     ]
    }
   ],
   "source": [
    "#24. Develop a code that prompts the user to input two sets of strings. Then, print the elements that are present in the first set but not in the second set.\n",
    "def get_input(prompt):\n",
    "    input_str = input(prompt)\n",
    "    input_set = set(input_str.split())  # Split input string by spaces and convert to set\n",
    "    return input_set\n",
    "set1 = get_input(\"Enter elements for the set1 : \")\n",
    "set2 = get_input(\"Enter elements for the set2: \")\n",
    "diff = set1.difference(set2)\n",
    "print(\"Elements in the first set but not in the second set:\", diff)"
   ]
  },
  {
   "cell_type": "code",
   "execution_count": 14,
   "id": "3c26a0db-c299-45f8-acdb-bf226fc9ed7d",
   "metadata": {},
   "outputs": [
    {
     "name": "stdout",
     "output_type": "stream",
     "text": [
      "New tuple containing elements from 3 index to 8 index : (4, 5, 6, 7, 8, 9)\n"
     ]
    }
   ],
   "source": [
    "#25. Create a code that takes a tuple and two integers as input. The function should return a new tuple containing elements from the original tuple within the specified range of indices.\n",
    "def specified_range(t1,start,end):\n",
    "    if start < 0 or end >= len(t1) or start>end:\n",
    "        return None\n",
    "    else:\n",
    "        t2=t1[start:end+1]\n",
    "        return t2\n",
    "t1=(1,2,3,4,5,6,7,8,9)\n",
    "start=3\n",
    "end=8\n",
    "result=specified_range(t1,start,end)\n",
    "print(f\"New tuple containing elements from {start} index to {end} index : {result}\")"
   ]
  },
  {
   "cell_type": "code",
   "execution_count": 7,
   "id": "702abbfd-348b-4c82-98bb-8935289e414e",
   "metadata": {},
   "outputs": [
    {
     "name": "stdin",
     "output_type": "stream",
     "text": [
      "Enter elements for the set1 :  a b c d e f g h\n",
      "Enter elements for the set2:  t f e g a s f h k\n"
     ]
    },
    {
     "name": "stdout",
     "output_type": "stream",
     "text": [
      "The union of these two sets: {'a', 'k', 'g', 'c', 's', 'f', 'b', 'd', 't', 'e', 'h'}\n"
     ]
    }
   ],
   "source": [
    "#26. Write a code that prompts the user to input two sets of characters. Then, print the union of these two sets.\n",
    "def get_input(prompt):\n",
    "    input_str = input(prompt)\n",
    "    input_set = set(input_str.split())  # Split input string by spaces and convert to set\n",
    "    return input_set\n",
    "set1 = get_input(\"Enter elements for the set1 : \")\n",
    "set2 = get_input(\"Enter elements for the set2: \")\n",
    "union = set1 | set2\n",
    "print(\"The union of these two sets:\", union)"
   ]
  },
  {
   "cell_type": "code",
   "execution_count": 8,
   "id": "2c8a79fd-1463-4d9b-9dae-7d77d7265b96",
   "metadata": {},
   "outputs": [
    {
     "name": "stdout",
     "output_type": "stream",
     "text": [
      "Maximum value: 20\n",
      "Minimum value: 3\n"
     ]
    }
   ],
   "source": [
    "#27. Develop a code that takes a tuple of integers as input. The function should return the maximum and minimum values from the tuple using tuple unpacking.\n",
    "def find_max_min(t1):\n",
    "    max_value = max(t1)\n",
    "    min_value = min(t1)\n",
    "    return max_value, min_value\n",
    "t1 = (10, 5, 8, 20, 3)\n",
    "max_val, min_val = find_max_min(t1)\n",
    "print(\"Maximum value:\", max_val)\n",
    "print(\"Minimum value:\", min_val)\n"
   ]
  },
  {
   "cell_type": "code",
   "execution_count": 11,
   "id": "cc8e2e2c-a9c6-4972-a902-00f7bf7b2f6d",
   "metadata": {},
   "outputs": [
    {
     "name": "stdout",
     "output_type": "stream",
     "text": [
      "Union : {1, 2, 3, 4, 5, 6, 7}\n",
      "Intersection : {3, 4, 5, 6}\n",
      "Difference : {1, 2}\n"
     ]
    }
   ],
   "source": [
    "#28. Create a code that defines two sets of integers. Then, print the union, intersection, and difference of these two sets.\n",
    "def operations(s1,s2):\n",
    "    union=s1 | s2\n",
    "    intersection=s1 & s2\n",
    "    difference=s1-s2\n",
    "    return union,intersection,difference\n",
    "s1={1,2,3,4,5,6}\n",
    "s2={3,4,5,6,7}\n",
    "union,intersection,difference=operations(s1,s2)\n",
    "print(f\"Union : {union}\\nIntersection : {intersection}\\nDifference : {difference}\")"
   ]
  },
  {
   "cell_type": "code",
   "execution_count": 12,
   "id": "fa96afcf-81e3-4d2f-a106-8d670bc12f34",
   "metadata": {},
   "outputs": [
    {
     "name": "stdout",
     "output_type": "stream",
     "text": [
      "Count of 4 : 3\n"
     ]
    }
   ],
   "source": [
    "#29. Write a code that takes a tuple and an element as input. The function should return the count of occurrences of the given element in the tuple.\n",
    "def count(t1,element):\n",
    "    return t1.count(element)\n",
    "t1=(1,2,4,5,6,4,2,7,1,4)\n",
    "element=4\n",
    "result=count(t1,element)\n",
    "print(f\"Count of {element} : {result}\")"
   ]
  },
  {
   "cell_type": "code",
   "execution_count": 21,
   "id": "d5a5b6e7-ba2c-4066-971e-192c07167b6f",
   "metadata": {},
   "outputs": [
    {
     "name": "stdin",
     "output_type": "stream",
     "text": [
      "Enter elements for the set1 :  apple banana orange\n",
      "Enter elements for the set2:  banana pineapple\n"
     ]
    },
    {
     "name": "stdout",
     "output_type": "stream",
     "text": [
      "Symetric_difference : {'apple', 'orange', 'pineapple'}\n"
     ]
    }
   ],
   "source": [
    "#30.Develop a code that prompts the user to input two sets of strings. Then, print the symmetric difference of these two sets.\n",
    "def get_input(prompt):\n",
    "    input_str=input(prompt)\n",
    "    input_set=set(input_str.split())\n",
    "    return input_set\n",
    "s1 = get_input(\"Enter elements for the set1 : \")\n",
    "s2 = get_input(\"Enter elements for the set2: \")\n",
    "symetric_difference= s1.symmetric_difference(s2)\n",
    "print(\"Symetric_difference :\", symetric_difference)"
   ]
  },
  {
   "cell_type": "code",
   "execution_count": 24,
   "id": "652a8f8b-35ec-4240-a7d5-6a5ab7f1037f",
   "metadata": {},
   "outputs": [
    {
     "name": "stdout",
     "output_type": "stream",
     "text": [
      "{'grapes': 2, 'apple': 1, 'orange': 1}\n"
     ]
    }
   ],
   "source": [
    "#31 Write a code that takes a list of words as input and returns a dictionary where the keys are unique words and the values are the frequencies of those words in the input list.\n",
    "def dict(list1):\n",
    "    return {word:list1.count(word) for word in set(list1)}\n",
    "list1=[\"apple\",\"orange\",\"grapes\",\"grapes\"]\n",
    "result=dict(list1)\n",
    "print(result)"
   ]
  },
  {
   "cell_type": "code",
   "execution_count": 25,
   "id": "08802fc6-9f62-48e7-8b7b-2caf26e66e4f",
   "metadata": {},
   "outputs": [
    {
     "name": "stdout",
     "output_type": "stream",
     "text": [
      "Merged Dictionary: {'a': 1, 'b': 5, 'd': 5, 'c': 7}\n"
     ]
    }
   ],
   "source": [
    "#32 Write a code that takes two dictionaries as input and merges them into a single dictionary. If there are common keys, the values should be added together.\n",
    "def merge_dicts(dict1, dict2):\n",
    "    return {key: dict1.get(key, 0) + dict2.get(key, 0) for key in set(dict1) | set(dict2)}\n",
    "dict1 = {'a': 1, 'b': 2, 'c': 3}\n",
    "dict2 = {'b': 3, 'c': 4, 'd': 5}\n",
    "merged_dict = merge_dicts(dict1, dict2)\n",
    "print(\"Merged Dictionary:\", merged_dict)\n"
   ]
  },
  {
   "cell_type": "code",
   "execution_count": 16,
   "id": "c00c34ce-5f3c-4df3-8534-72663bf092ea",
   "metadata": {},
   "outputs": [
    {
     "name": "stdout",
     "output_type": "stream",
     "text": [
      "John\n",
      "None\n"
     ]
    }
   ],
   "source": [
    "#33 Write a code to access a value in a nested dictionary. The function should take the dictionary and a list of keys as input, and return the corresponding value. If any of the keys do not exist\n",
    "#   in the dictionary, the function should return None.\n",
    "def nested_dictionary(dict1, keys):\n",
    "    dict2 = dict1.copy()  \n",
    "    for key in keys:\n",
    "        if key in dict2:\n",
    "            dict2 = dict2[key]\n",
    "        else:\n",
    "            return None\n",
    "    return dict2\n",
    "\n",
    "dict1 = {1: {'name': 'John', 'age': '27', 'sex': 'Male'}, 2: {'name': 'Marie', 'age': '22', 'sex': 'Female'}}\n",
    "keys = [1, 'name']\n",
    "result = nested_dictionary(dict1, keys)\n",
    "print(result)\n",
    "\n",
    "keys = [1, 'gender']\n",
    "result = nested_dictionary(dict1, keys)\n",
    "print(result)\n"
   ]
  },
  {
   "cell_type": "code",
   "execution_count": 22,
   "id": "33ff5965-40d6-4460-a7ab-bbf717ddc217",
   "metadata": {},
   "outputs": [
    {
     "name": "stdout",
     "output_type": "stream",
     "text": [
      "Ascending Order:{'d': 1, 'b': 2, 'a': 5, 'c': 8}\n",
      "Desecnding order:{'c': 8, 'a': 5, 'b': 2, 'd': 1}\n"
     ]
    }
   ],
   "source": [
    "#34 Write a code that takes a dictionary as input and returns a sorted version of it based on the values. You can choose whether to sort in ascending or descending order.\n",
    "def sort_dict_by_values(d):\n",
    "    sorted_dict = dict(sorted(d.items(), key=lambda item: item[1]))\n",
    "    return sorted_dict\n",
    "my_dict = {'a': 5, 'b': 2, 'c': 8, 'd': 1}\n",
    "sorted_dict = sort_dict_by_values(my_dict)\n",
    "print(f\"Ascending Order:{sorted_dict}\")  \n",
    "\n",
    "def sort_dict_by_values(d):\n",
    "    sorted_dict = dict(sorted(d.items(), key=lambda item: item[1],reverse=True))\n",
    "    return sorted_dict\n",
    "my_dict = {'a': 5, 'b': 2, 'c': 8, 'd': 1}\n",
    "sorted_dict = sort_dict_by_values(my_dict)\n",
    "print(f\"Desecnding order:{sorted_dict}\")  \n"
   ]
  },
  {
   "cell_type": "code",
   "execution_count": 1,
   "id": "4fc155f1-18a2-4f9e-a0ce-3e52903cab03",
   "metadata": {},
   "outputs": [
    {
     "name": "stdout",
     "output_type": "stream",
     "text": [
      "{1: ['a', 'c'], 2: ['b'], 3: ['d']}\n"
     ]
    }
   ],
   "source": [
    "#35 Write a code that inverts a dictionary, swapping keys and values. Ensure that the inverted dictionary correctly handles cases where multiple keys have the same value by storing the keys as a \n",
    "#   list in the inverted dictionary.\n",
    "def invert_dict(original_dict):\n",
    "    inverted_dict = {}\n",
    "    for key, value in original_dict.items():\n",
    "        if value not in inverted_dict:\n",
    "            inverted_dict[value] = [key]\n",
    "        else:\n",
    "            inverted_dict[value].append(key)\n",
    "    return inverted_dict\n",
    "original_dict = {'a': 1, 'b': 2, 'c': 1, 'd': 3}\n",
    "inverted_dict = invert_dict(original_dict)\n",
    "print(inverted_dict)\n"
   ]
  }
 ],
 "metadata": {
  "kernelspec": {
   "display_name": "Python 3 (ipykernel)",
   "language": "python",
   "name": "python3"
  },
  "language_info": {
   "codemirror_mode": {
    "name": "ipython",
    "version": 3
   },
   "file_extension": ".py",
   "mimetype": "text/x-python",
   "name": "python",
   "nbconvert_exporter": "python",
   "pygments_lexer": "ipython3",
   "version": "3.10.8"
  }
 },
 "nbformat": 4,
 "nbformat_minor": 5
}
